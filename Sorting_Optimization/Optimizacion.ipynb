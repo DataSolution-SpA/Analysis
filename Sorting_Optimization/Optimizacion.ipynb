{
 "cells": [
  {
   "cell_type": "markdown",
   "id": "1703ea61",
   "metadata": {},
   "source": [
    "## Bubble Sorting"
   ]
  },
  {
   "cell_type": "code",
   "execution_count": 7,
   "id": "87e221d2",
   "metadata": {},
   "outputs": [
    {
     "data": {
      "text/plain": [
       "[1, 2, 3, 6, 6, 12, 25, 52, 52, 54]"
      ]
     },
     "execution_count": 7,
     "metadata": {},
     "output_type": "execute_result"
    }
   ],
   "source": [
    "def bubbleSort(lista):\n",
    "    n = len(lista)\n",
    "    comparaciones = 0\n",
    "    for i in range(1, n): # Itera sobre el rango de la lista\n",
    "        for j in range(n-i): # Va reduciendo las posiciones ya buscadas\n",
    "            comparaciones += 1\n",
    "            # Ordenamiento:\n",
    "            if lista[j] > lista[j+1]:\n",
    "                lista[j], lista[j+1] = lista[j+1], lista[j]\n",
    "    return lista\n",
    "\n",
    "# Evaluación:\n",
    "lst = [25,3,6,52,54,12,6,1,2,52]\n",
    "bubbleSort(lst)"
   ]
  },
  {
   "cell_type": "markdown",
   "id": "4e5f523c",
   "metadata": {},
   "source": [
    "## Insertion Sorting"
   ]
  },
  {
   "cell_type": "code",
   "execution_count": 8,
   "id": "d648e09a",
   "metadata": {},
   "outputs": [
    {
     "data": {
      "text/plain": [
       "[1, 2, 3, 6, 6, 12, 25, 52, 52, 54]"
      ]
     },
     "execution_count": 8,
     "metadata": {},
     "output_type": "execute_result"
    }
   ],
   "source": [
    "def insertionSort(lista):\n",
    "    n = len(lista)\n",
    "    comparaciones = 0\n",
    "    for i in range(1, n): # Itera sobre el rango de la lista\n",
    "        val = lista[i]\n",
    "        j = i\n",
    "        # Va comparando uno a uno y reemplaza valor en caso de ser menor\n",
    "        while j > 0 and lista[j-1] > val:\n",
    "            lista[j] = lista[j-1]\n",
    "            j -= 1\n",
    "            comparaciones += 1\n",
    "        lista[j] = val\n",
    "    return lista\n",
    "        \n",
    "# Evaluación:\n",
    "lst = [25,3,6,52,54,12,6,1,2,52]\n",
    "insertionSort(lst)"
   ]
  },
  {
   "cell_type": "markdown",
   "id": "d241f151",
   "metadata": {},
   "source": [
    "## Merge Sorting"
   ]
  },
  {
   "cell_type": "code",
   "execution_count": 15,
   "id": "4fd1ca9d",
   "metadata": {},
   "outputs": [
    {
     "data": {
      "text/plain": [
       "[1, 2, 3, 6, 6, 12, 25, 52, 52, 54]"
      ]
     },
     "execution_count": 15,
     "metadata": {},
     "output_type": "execute_result"
    }
   ],
   "source": [
    "def mergeSort(lista):\n",
    "    if len(lista) <= 1:\n",
    "        return lista\n",
    "\n",
    "    medio = int(len(lista) / 2)\n",
    "    izquierda = lista[:medio]\n",
    "    derecha = lista[medio:]\n",
    "    \n",
    "    # A continuación se crea un división recursiva\n",
    "    izquierda = mergeSort(izquierda)\n",
    "    derecha = mergeSort(derecha)\n",
    "\n",
    "    return merge(izquierda, derecha)\n",
    "\n",
    "# Funciión que va ordenante los 2 conjuntos de listas dentro de la función anterior\n",
    "def merge(listaA, listaB):\n",
    "    comparaciones = 0\n",
    "    lista_nueva = []\n",
    "    a = 0\n",
    "    b = 0\n",
    "\n",
    "    while a < len(listaA) and b < len(listaB):\n",
    "        comparaciones += 1\n",
    "\n",
    "        if listaA[a] < listaB[b]:\n",
    "            lista_nueva.append(listaA[a])\n",
    "            a += 1\n",
    "        else:\n",
    "            lista_nueva.append(listaB[b])\n",
    "            b += 1\n",
    "\n",
    "    while a < len(listaA):\n",
    "        lista_nueva.append(listaA[a])\n",
    "        a += 1\n",
    "\n",
    "    while b < len(listaB):\n",
    "        lista_nueva.append(listaB[b])\n",
    "        b += 1\n",
    "\n",
    "    return lista_nueva\n",
    "\n",
    "# Evaluación:\n",
    "lst = [25,3,6,52,54,12,6,1,2,52]\n",
    "mergeSort(lst)"
   ]
  },
  {
   "cell_type": "markdown",
   "id": "1800ddc3",
   "metadata": {},
   "source": [
    "## Quick Sorting"
   ]
  },
  {
   "cell_type": "code",
   "execution_count": 25,
   "id": "25717e1c",
   "metadata": {},
   "outputs": [
    {
     "data": {
      "text/plain": [
       "[1, 2, 3, 6, 6, 12, 25, 52, 52, 54]"
      ]
     },
     "execution_count": 25,
     "metadata": {},
     "output_type": "execute_result"
    }
   ],
   "source": [
    "def particion(lista, izq, der):\n",
    "\tcomparaciones = 0\n",
    "\tpivote = lista[der]\n",
    "\tindice = izq\n",
    "\n",
    "\tfor i in range(izq, der):\n",
    "\t\tcomparaciones += 1\n",
    "\t\t\n",
    "\t\tif lista[i] <= pivote:\n",
    "\t\t\tlista[indice], lista[i] = lista[i], lista[indice]\n",
    "\t\t\tindice += 1\n",
    "\n",
    "\tlista[indice], lista[der] = lista[der], lista[indice]\n",
    "\treturn indice\n",
    "\n",
    "def quicksort(lista, izq, der):\n",
    "    if izq < der:\n",
    "    \tpivote_indice = particion(lista, izq, der)\n",
    "    \tquicksort(lista, izq, pivote_indice-1)\n",
    "    \tquicksort(lista, pivote_indice+1, der)\n",
    "        \n",
    "# Evaluación:\n",
    "lst = [25,3,6,52,54,12,6,1,2,52]\n",
    "mergeSort(lst)"
   ]
  },
  {
   "cell_type": "markdown",
   "id": "d54c5abe",
   "metadata": {},
   "source": [
    "## Selection Sorting"
   ]
  },
  {
   "cell_type": "code",
   "execution_count": 30,
   "id": "c99d981f",
   "metadata": {},
   "outputs": [
    {
     "data": {
      "text/plain": [
       "[1, 2, 3, 6, 6, 12, 25, 52, 52, 54]"
      ]
     },
     "execution_count": 30,
     "metadata": {},
     "output_type": "execute_result"
    }
   ],
   "source": [
    "def selectionSort(lista):\n",
    "    comparaciones = 0\n",
    "    n = len(lista)\n",
    "\n",
    "    for i in range(n - 1):\n",
    "        menor = i\n",
    "        comparaciones += 1\n",
    "\n",
    "        for j in range(i + 1, n):\n",
    "            if lista[j] < lista[menor]:\n",
    "                menor = j\n",
    "\n",
    "        lista[i], lista[menor] = lista[menor], lista[i]\n",
    "    return lista\n",
    "        \n",
    "# Evaluación:\n",
    "lst = [25,3,6,52,54,12,6,1,2,52]\n",
    "selectionSort(lst)"
   ]
  },
  {
   "cell_type": "markdown",
   "id": "7878c358",
   "metadata": {},
   "source": [
    "## Shell Sorting"
   ]
  },
  {
   "cell_type": "code",
   "execution_count": 31,
   "id": "1f36b565",
   "metadata": {},
   "outputs": [
    {
     "data": {
      "text/plain": [
       "[1, 2, 3, 6, 6, 12, 25, 52, 52, 54]"
      ]
     },
     "execution_count": 31,
     "metadata": {},
     "output_type": "execute_result"
    }
   ],
   "source": [
    "def shellSort(lista):\n",
    "    comparaciones = 0\n",
    "    n = len(lista)\n",
    "    gap = n / 2\n",
    "\n",
    "    while gap > 0:\n",
    "        for i in range(gap, n):\n",
    "            val = lista[i]\n",
    "            j = i\n",
    "            comparaciones += 1\n",
    "\n",
    "            while j >= gap and lista[j-gap] > val:\n",
    "                lista[j] = lista[j-gap]\n",
    "                j -= gap\n",
    "\n",
    "            lista[j] = val\n",
    "\n",
    "        gap /= 2\n",
    "    return lista\n",
    "\n",
    "# Evaluación:\n",
    "lst = [25,3,6,52,54,12,6,1,2,52]\n",
    "selectionSort(lst)"
   ]
  }
 ],
 "metadata": {
  "kernelspec": {
   "display_name": "Python 3",
   "language": "python",
   "name": "python3"
  },
  "language_info": {
   "codemirror_mode": {
    "name": "ipython",
    "version": 3
   },
   "file_extension": ".py",
   "mimetype": "text/x-python",
   "name": "python",
   "nbconvert_exporter": "python",
   "pygments_lexer": "ipython3",
   "version": "3.8.5"
  }
 },
 "nbformat": 4,
 "nbformat_minor": 5
}
